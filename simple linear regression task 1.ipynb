{
 "cells": [
  {
   "cell_type": "markdown",
   "id": "3e7ca940",
   "metadata": {},
   "source": [
    "**Prediction using Supervised ML (Level - Beginner)**\n",
    "**Problem statement**\n",
    "     Predict the percentage of student based on the number of hours they have studied.This is simple linear regression with just involving only two variables.what will be the predicted score if the student studies for 9.25 hours/day\n",
    "Step:1 --- Importing all libraries required in this notebook\n",
    "Step:2--- Reading data from csv file and visualization\n",
    "Step :3 --- Preparing the data\n",
    "Step:4 --- Training the Algorithm\n",
    "Step:5 ---Making Predictions\n",
    "Step:6 --- Evaluating the model\n",
    "Step:7 --- Solution"
   ]
  },
  {
   "cell_type": "code",
   "execution_count": null,
   "id": "39bd07ae",
   "metadata": {},
   "outputs": [],
   "source": [
    "#importing libraries\n",
    "import pandas as pd\n",
    "import numpy as np  \n",
    "\n",
    "import lux \n",
    "\n",
    "import matplotlib.pyplot as plt  \n",
    "%matplotlib inline\n",
    "\n",
    "from sklearn.model_selection \n",
    "import train_test_split\n",
    "from sklearn.linear_model \n",
    "import LinearRegression"
   ]
  },
  {
   "cell_type": "code",
   "execution_count": null,
   "id": "c20d8d44",
   "metadata": {},
   "outputs": [],
   "source": [
    "#reading csv file and visualization\n",
    "path = r\"C:\\Users\\Sneha\\Documents\\student_scores -task1.csv\"\n",
    "data = pd.read_csv(path)\n",
    "data"
   ]
  },
  {
   "cell_type": "code",
   "execution_count": null,
   "id": "bca8fc6e",
   "metadata": {},
   "outputs": [],
   "source": [
    "data.head()"
   ]
  },
  {
   "cell_type": "markdown",
   "id": "cfe6312b",
   "metadata": {},
   "source": [
    "data.columns"
   ]
  },
  {
   "cell_type": "code",
   "execution_count": 17,
   "id": "757ab337",
   "metadata": {},
   "outputs": [
    {
     "data": {
      "text/plain": [
       "(25, 2)"
      ]
     },
     "execution_count": 17,
     "metadata": {},
     "output_type": "execute_result"
    }
   ],
   "source": [
    "data.shape"
   ]
  },
  {
   "cell_type": "code",
   "execution_count": 18,
   "id": "ae4e9873",
   "metadata": {},
   "outputs": [],
   "source": [
    "#preapring the data\n",
    "traindata,testdata = train_test_split(data,test_size=0.25,random_state=123)"
   ]
  },
  {
   "cell_type": "code",
   "execution_count": 22,
   "id": "1100b933",
   "metadata": {},
   "outputs": [
    {
     "data": {
      "text/plain": [
       "(18, 2)"
      ]
     },
     "execution_count": 22,
     "metadata": {},
     "output_type": "execute_result"
    }
   ],
   "source": [
    "traindata.shape"
   ]
  },
  {
   "cell_type": "code",
   "execution_count": 23,
   "id": "253e8987",
   "metadata": {},
   "outputs": [
    {
     "data": {
      "text/plain": [
       "(7, 2)"
      ]
     },
     "execution_count": 23,
     "metadata": {},
     "output_type": "execute_result"
    }
   ],
   "source": [
    "testdata.shape"
   ]
  },
  {
   "cell_type": "code",
   "execution_count": 25,
   "id": "80cc03d4",
   "metadata": {},
   "outputs": [],
   "source": [
    "traindata_x=traindata.drop(\"Scores\",axis=1)\n",
    "traindata_y=traindata[\"Scores\"]"
   ]
  },
  {
   "cell_type": "code",
   "execution_count": 27,
   "id": "b0e935c7",
   "metadata": {},
   "outputs": [],
   "source": [
    "testdata_x=testdata.drop(\"Scores\",axis=1)\n",
    "testdata_y=testdata[\"Scores\"]"
   ]
  },
  {
   "cell_type": "code",
   "execution_count": 28,
   "id": "37c199e6",
   "metadata": {},
   "outputs": [],
   "source": [
    "#training alogorithm\n",
    "linear=LinearRegression()"
   ]
  },
  {
   "cell_type": "code",
   "execution_count": 29,
   "id": "3077ff64",
   "metadata": {},
   "outputs": [
    {
     "data": {
      "text/plain": [
       "LinearRegression()"
      ]
     },
     "execution_count": 29,
     "metadata": {},
     "output_type": "execute_result"
    }
   ],
   "source": [
    "linear.fit(traindata_x,traindata_y)"
   ]
  },
  {
   "cell_type": "code",
   "execution_count": 30,
   "id": "66c4694e",
   "metadata": {},
   "outputs": [
    {
     "data": {
      "text/plain": [
       "array([9.61718609])"
      ]
     },
     "execution_count": 30,
     "metadata": {},
     "output_type": "execute_result"
    }
   ],
   "source": [
    "linear.coef_"
   ]
  },
  {
   "cell_type": "code",
   "execution_count": 32,
   "id": "27d22bc2",
   "metadata": {},
   "outputs": [
    {
     "data": {
      "text/plain": [
       "2.448617866650636"
      ]
     },
     "execution_count": 32,
     "metadata": {},
     "output_type": "execute_result"
    }
   ],
   "source": [
    "linear.intercept_"
   ]
  },
  {
   "cell_type": "code",
   "execution_count": 34,
   "id": "20ad67d9",
   "metadata": {},
   "outputs": [
    {
     "data": {
      "application/vnd.jupyter.widget-view+json": {
       "model_id": "9d8999ac4fc0418ebe6ec9940a577550",
       "version_major": 2,
       "version_minor": 0
      },
      "text/plain": [
       "Button(description='Toggle Pandas/Lux', layout=Layout(top='5px', width='140px'), style=ButtonStyle())"
      ]
     },
     "metadata": {},
     "output_type": "display_data"
    },
    {
     "data": {
      "application/vnd.jupyter.widget-view+json": {
       "model_id": "ca0f7d328a7c4b0e9f1e475cb209cc04",
       "version_major": 2,
       "version_minor": 0
      },
      "text/plain": [
       "Output()"
      ]
     },
     "metadata": {},
     "output_type": "display_data"
    }
   ],
   "source": [
    "# Plotting the regression line \n",
    "regressionline = linear.coef_*traindata_x+linear.intercept_\n",
    "regressionline\n"
   ]
  },
  {
   "cell_type": "markdown",
   "id": "f7d0558e",
   "metadata": {},
   "source": [
    "plt.scatter(traindata_x,traindata_y)\n",
    "plt.plot(traindata_x, regressionline);\n",
    "plt.show()\n"
   ]
  },
  {
   "cell_type": "code",
   "execution_count": 37,
   "id": "8103e411",
   "metadata": {},
   "outputs": [],
   "source": [
    "#making predictions\n",
    "pred=linear.predict(testdata_x)\n"
   ]
  },
  {
   "cell_type": "code",
   "execution_count": 38,
   "id": "053f38ee",
   "metadata": {},
   "outputs": [
    {
     "data": {
      "text/plain": [
       "[(20, 16.874397005544534),\n",
       " (54, 48.61111111111111),\n",
       " (35, 38.99392501851517),\n",
       " (67, 61.11345303148581),\n",
       " (95, 88.04157409075442),\n",
       " (81, 82.27126243519687),\n",
       " (60, 55.343141375928255)]"
      ]
     },
     "execution_count": 38,
     "metadata": {},
     "output_type": "execute_result"
    }
   ],
   "source": [
    "list(zip(testdata_y,pred))"
   ]
  },
  {
   "cell_type": "code",
   "execution_count": 40,
   "id": "5961b8e2",
   "metadata": {},
   "outputs": [
    {
     "data": {
      "text/plain": [
       "4.797834650875306"
      ]
     },
     "execution_count": 40,
     "metadata": {},
     "output_type": "execute_result"
    }
   ],
   "source": [
    "#evaluating performance\n",
    "from sklearn.metrics import mean_squared_error\n",
    "mean_squared_error(testdata_y,pred,squared=False)"
   ]
  },
  {
   "cell_type": "code",
   "execution_count": 41,
   "id": "4a0e387c",
   "metadata": {},
   "outputs": [
    {
     "name": "stdout",
     "output_type": "stream",
     "text": [
      "No of Hours = [[9.25]]\n",
      "Predicted Score = 91.407589223163\n"
     ]
    }
   ],
   "source": [
    "#soultion for 9.25 hours\n",
    "hour =[9.25]\n",
    "pred=linear.predict([hour])\n",
    "print(\"No of Hours = {}\".format([hour]))\n",
    "print(\"Predicted Score = {}\".format(pred[0]))"
   ]
  },
  {
   "cell_type": "markdown",
   "id": "db93fa9f",
   "metadata": {},
   "source": []
  }
 ],
 "metadata": {
  "kernelspec": {
   "display_name": "Python 3",
   "language": "python",
   "name": "python3"
  },
  "language_info": {
   "codemirror_mode": {
    "name": "ipython",
    "version": 3
   },
   "file_extension": ".py",
   "mimetype": "text/x-python",
   "name": "python",
   "nbconvert_exporter": "python",
   "pygments_lexer": "ipython3",
   "version": "3.8.8"
  }
 },
 "nbformat": 4,
 "nbformat_minor": 5
}
